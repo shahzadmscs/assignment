{
 "cells": [
  {
   "cell_type": "markdown",
   "id": "f9cc71f9",
   "metadata": {},
   "source": [
    "# Data Science Tools and Ecosystem"
   ]
  },
  {
   "cell_type": "markdown",
   "id": "9c50b933",
   "metadata": {},
   "source": [
    "<b>Objectives:</b>\n",
    "    <ul>\n",
    "    <li>List popular languages of Data Science</li>\n",
    "    <li>List popular IDEs of Data Science</li>\n",
    "    <li>Arithmatic Operation</li>\n",
    "    </ul>"
   ]
  },
  {
   "cell_type": "markdown",
   "id": "e59d7186",
   "metadata": {},
   "source": [
    "In this notebook, Data Science Tools and Ecosystem are summarized."
   ]
  },
  {
   "cell_type": "markdown",
   "id": "64528034",
   "metadata": {},
   "source": [
    "Some of the popular languages that Data Scientists use are:\n",
    "    <ol>\n",
    "    <li>Python</li>\n",
    "    <li>javascript</li>\n",
    "    <li>R language</li>\n",
    "    </ol>"
   ]
  },
  {
   "cell_type": "markdown",
   "id": "a2621324",
   "metadata": {},
   "source": [
    "Some of the commonly used libraries used by Data Scientists include:\n",
    "    <ol>\n",
    "    <li>Pandas</li>\n",
    "    <li>Keras</li>\n",
    "    <li>tenserflow</li>\n",
    "    </ol>"
   ]
  },
  {
   "cell_type": "markdown",
   "id": "3edb3306",
   "metadata": {},
   "source": [
    "<table>\n",
    "<th>Data Science Tools</th>\n",
    "<tr>\n",
    "        <td>Jupyter NoteBook</td>\n",
    "</tr>\n",
    "<tr>\n",
    "        <td>VS Code</td>\n",
    "</tr>\n",
    "<tr>\n",
    "        <td>R Studio</td>\n",
    "</tr>\n",
    "</table>"
   ]
  },
  {
   "cell_type": "markdown",
   "id": "634384f7",
   "metadata": {},
   "source": [
    "### Below are a few examples of evaluating arithmetic expressions in Python"
   ]
  },
  {
   "cell_type": "code",
   "execution_count": 1,
   "id": "be9ea402",
   "metadata": {},
   "outputs": [
    {
     "name": "stdout",
     "output_type": "stream",
     "text": [
      "17\n"
     ]
    }
   ],
   "source": [
    "#This a simple arithmetic expression to mutiply then add integers.\n",
    "print((3*4)+5)"
   ]
  },
  {
   "cell_type": "markdown",
   "id": "cc3c56c8",
   "metadata": {},
   "source": [
    "## Author\n",
    "Muhammad Shahzad"
   ]
  },
  {
   "cell_type": "code",
   "execution_count": null,
   "id": "291f4534",
   "metadata": {},
   "outputs": [],
   "source": []
  }
 ],
 "metadata": {
  "kernelspec": {
   "display_name": "Python 3 (ipykernel)",
   "language": "python",
   "name": "python3"
  },
  "language_info": {
   "codemirror_mode": {
    "name": "ipython",
    "version": 3
   },
   "file_extension": ".py",
   "mimetype": "text/x-python",
   "name": "python",
   "nbconvert_exporter": "python",
   "pygments_lexer": "ipython3",
   "version": "3.9.7"
  }
 },
 "nbformat": 4,
 "nbformat_minor": 5
}
